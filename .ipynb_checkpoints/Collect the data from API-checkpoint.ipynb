{
 "cells": [
  {
   "cell_type": "code",
   "execution_count": 14,
   "id": "da377e24",
   "metadata": {},
   "outputs": [],
   "source": [
    "NAME=\"Dublin\" # name of contract\n",
    "STATIONS=\"https://api.jcdecaux.com/vls/v1/stations\" # and the JCDecaux endpoint\n",
    "APIKEY = \"53c9b7d9148fef65635074fed863cc14f718219f\""
   ]
  },
  {
   "cell_type": "code",
   "execution_count": 15,
   "id": "a4490c0a",
   "metadata": {},
   "outputs": [],
   "source": [
    "def main():\n",
    "    while True:\n",
    "        try:\n",
    "            r = requests.get(STATIONS,params={\"apiKey\": APIKEY, \"contract\": NAME})\n",
    "            store(json.loads(r.text))\n",
    "            time.sleep(5*60)\n",
    "        except Exception as e:\n",
    "            print (\"There is a wrong message:\".format(e))\n",
    "    return\n",
    "        "
   ]
  },
  {
   "cell_type": "code",
   "execution_count": 11,
   "id": "2d6ce7df",
   "metadata": {},
   "outputs": [],
   "source": [
    "## GET https://api.jcdecauc.com/vls/v1/staions?contract={contract_name} HTTP/1.1"
   ]
  },
  {
   "cell_type": "code",
   "execution_count": 13,
   "id": "3a0bebb5",
   "metadata": {
    "scrolled": true
   },
   "outputs": [
    {
     "ename": "NameError",
     "evalue": "name 'requests' is not defined",
     "output_type": "error",
     "traceback": [
      "\u001b[0;31m---------------------------------------------------------------------------\u001b[0m",
      "\u001b[0;31mNameError\u001b[0m                                 Traceback (most recent call last)",
      "\u001b[0;32m/var/folders/9r/pt_53l_55hnfbqs4389kw3h40000gn/T/ipykernel_5845/1084157925.py\u001b[0m in \u001b[0;36m<module>\u001b[0;34m\u001b[0m\n\u001b[1;32m      2\u001b[0m \u001b[0mNAME\u001b[0m \u001b[0;34m=\u001b[0m \u001b[0;34m\"Dublin\"\u001b[0m\u001b[0;34m\u001b[0m\u001b[0;34m\u001b[0m\u001b[0m\n\u001b[1;32m      3\u001b[0m \u001b[0mSTATIONS_URI\u001b[0m \u001b[0;34m=\u001b[0m \u001b[0;34m\"https://api.jcdecaux.com/vls/v1/stations\"\u001b[0m\u001b[0;34m\u001b[0m\u001b[0;34m\u001b[0m\u001b[0m\n\u001b[0;32m----> 4\u001b[0;31m \u001b[0mr\u001b[0m \u001b[0;34m=\u001b[0m \u001b[0mrequests\u001b[0m\u001b[0;34m.\u001b[0m\u001b[0mget\u001b[0m\u001b[0;34m(\u001b[0m\u001b[0mSTATIONS_URI\u001b[0m\u001b[0;34m,\u001b[0m \u001b[0mparams\u001b[0m\u001b[0;34m=\u001b[0m\u001b[0;34m{\u001b[0m\u001b[0;34m\"apiKey\"\u001b[0m\u001b[0;34m:\u001b[0m \u001b[0mAPIKEY\u001b[0m\u001b[0;34m,\u001b[0m \u001b[0;34m\"contract\"\u001b[0m\u001b[0;34m:\u001b[0m \u001b[0mNAME\u001b[0m\u001b[0;34m}\u001b[0m\u001b[0;34m)\u001b[0m\u001b[0;34m\u001b[0m\u001b[0;34m\u001b[0m\u001b[0m\n\u001b[0m",
      "\u001b[0;31mNameError\u001b[0m: name 'requests' is not defined"
     ]
    }
   ],
   "source": [
    "APIKEY = \"secret\"\n",
    "NAME = \"Dublin\"\n",
    "STATIONS_URI = \"https://api.jcdecaux.com/vls/v1/stations\"\n",
    "r = requests.get(STATIONS_URI, params={\"apiKey\": APIKEY, \"contract\": NAME})"
   ]
  },
  {
   "cell_type": "code",
   "execution_count": null,
   "id": "052d0c84",
   "metadata": {},
   "outputs": [],
   "source": []
  },
  {
   "cell_type": "code",
   "execution_count": null,
   "id": "ebb4dcb0",
   "metadata": {},
   "outputs": [],
   "source": []
  }
 ],
 "metadata": {
  "kernelspec": {
   "display_name": "Python 3 (ipykernel)",
   "language": "python",
   "name": "python3"
  },
  "language_info": {
   "codemirror_mode": {
    "name": "ipython",
    "version": 3
   },
   "file_extension": ".py",
   "mimetype": "text/x-python",
   "name": "python",
   "nbconvert_exporter": "python",
   "pygments_lexer": "ipython3",
   "version": "3.9.7"
  }
 },
 "nbformat": 4,
 "nbformat_minor": 5
}
